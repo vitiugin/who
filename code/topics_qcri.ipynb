{
 "metadata": {
  "language_info": {
   "codemirror_mode": {
    "name": "ipython",
    "version": 3
   },
   "file_extension": ".py",
   "mimetype": "text/x-python",
   "name": "python",
   "nbconvert_exporter": "python",
   "pygments_lexer": "ipython3",
   "version": "3.7.2-final"
  },
  "orig_nbformat": 2,
  "kernelspec": {
   "name": "who",
   "display_name": "who"
  }
 },
 "nbformat": 4,
 "nbformat_minor": 2,
 "cells": [
  {
   "cell_type": "code",
   "execution_count": 1,
   "metadata": {
    "tags": []
   },
   "outputs": [
    {
     "output_type": "stream",
     "name": "stderr",
     "text": "[nltk_data] Downloading package wordnet to /Users/fv/nltk_data...\n[nltk_data]   Package wordnet is already up-to-date!\n[nltk_data] Downloading package stopwords to /Users/fv/nltk_data...\n[nltk_data]   Package stopwords is already up-to-date!\n"
    }
   ],
   "source": [
    "# Based on code from https://towardsdatascience.com/topic-modelling-in-python-with-nltk-and-gensim-4ef03213cd21\n",
    "\n",
    "import nltk\n",
    "import spacy\n",
    "import gensim\n",
    "import random\n",
    "import pickle\n",
    "import pandas as pd\n",
    "from gensim import corpora\n",
    "from spacy.lang.en import English\n",
    "from nltk.corpus import wordnet as wn\n",
    "from nltk.stem.wordnet import WordNetLemmatizer\n",
    "\n",
    "spacy.load('en_core_web_sm')\n",
    "#spacy.load('es_core_news_sm')\n",
    "#spacy.load(\"fr_core_news_sm\")\n",
    "nltk.download('wordnet')\n",
    "nltk.download('stopwords')\n",
    "en_stop = set(nltk.corpus.stopwords.words('english'))\n",
    "#en_stop = set(nltk.corpus.stopwords.words('spanish'))\n",
    "#en_stop = set(nltk.corpus.stopwords.words('french'))\n",
    "\n",
    "parser = English()\n",
    "def tokenize(text):\n",
    "    lda_tokens = []\n",
    "    tokens = parser(text)\n",
    "    for token in tokens:\n",
    "        if token.orth_.isspace():\n",
    "            continue\n",
    "        elif token.like_url:\n",
    "            lda_tokens.append('URL')\n",
    "        elif token.orth_.startswith('@'):\n",
    "            lda_tokens.append('')\n",
    "        else:\n",
    "            lda_tokens.append(token.lower_)\n",
    "    return lda_tokens\n",
    "\n",
    "def get_lemma(word):\n",
    "    lemma = wn.morphy(word)\n",
    "    if lemma is None:\n",
    "        return word\n",
    "    else:\n",
    "        return lemma\n",
    "    \n",
    "def get_lemma2(word):\n",
    "    return WordNetLemmatizer().lemmatize(word)\n",
    "\n",
    "def prepare_text_for_lda(text):\n",
    "    tokens = tokenize(text)\n",
    "    tokens = [token for token in tokens if len(token) > 4]\n",
    "    tokens = [token for token in tokens if token not in en_stop]\n",
    "    tokens = [get_lemma(token) for token in tokens]\n",
    "    return tokens"
   ]
  },
  {
   "cell_type": "code",
   "execution_count": 2,
   "metadata": {},
   "outputs": [],
   "source": [
    "def get_topics(path, num_topics):\n",
    "    text_data = []\n",
    "    f = pd.read_json(path, lines=True)\n",
    "    for line in f['text']:\n",
    "        tokens = prepare_text_for_lda(line)\n",
    "        if random.random() > .99:\n",
    "            #print('List of tokens:', tokens)\n",
    "            text_data.append(tokens)\n",
    "\n",
    "    dictionary = corpora.Dictionary(text_data)\n",
    "    corpus = [dictionary.doc2bow(text) for text in text_data]\n",
    "\n",
    "    pickle.dump(corpus, open('models/corpus.pkl', 'wb'))\n",
    "    dictionary.save('models/dictionary.gensim')\n",
    "\n",
    "    NUM_TOPICS = num_topics\n",
    "    ldamodel = gensim.models.ldamodel.LdaModel(corpus, num_topics = NUM_TOPICS, id2word=dictionary, passes=15)\n",
    "    ldamodel.save('models/model' + str(NUM_TOPICS) + '.gensim')\n",
    "    topics = ldamodel.print_topics(num_words=10)\n",
    "    for topic in topics:\n",
    "        print(topic)"
   ]
  },
  {
   "cell_type": "code",
   "execution_count": 10,
   "metadata": {
    "tags": []
   },
   "outputs": [
    {
     "output_type": "stream",
     "name": "stdout",
     "text": "(0, '0.013*\"lockdown\" + 0.012*\"india\" + 0.009*\"people\" + 0.008*\"coronavirus\" + 0.008*\"covid19\" + 0.006*\"pandemic\" + 0.006*\"covid-19\" + 0.005*\"light\" + 0.005*\"corona\" + 0.004*\"world\"')\n(1, '0.017*\"corona\" + 0.017*\"coronavirus\" + 0.014*\"india\" + 0.014*\"minister\" + 0.010*\"prime\" + 0.009*\"covid19\" + 0.008*\"fight\" + 0.007*\"request\" + 0.006*\"please\" + 0.006*\"lockdown\"')\n(2, '0.019*\"covid19\" + 0.018*\"india\" + 0.014*\"fight\" + 0.012*\"contribute\" + 0.010*\"together\" + 0.009*\"stand\" + 0.008*\"indiafightscorona\" + 0.007*\"relief\" + 0.007*\"care\" + 0.007*\"corona\"')\n(3, '0.013*\"covid-19\" + 0.011*\"corona\" + 0.010*\"indiafightscorona\" + 0.009*\"lockdown\" + 0.009*\"covid19\" + 0.009*\"india\" + 0.008*\"fight\" + 0.008*\"indian\" + 0.005*\"every\" + 0.005*\"delhi\"')\n(4, '0.014*\"coronavirus\" + 0.013*\"india\" + 0.013*\"lockdown\" + 0.012*\"indian\" + 0.010*\"covid19\" + 0.007*\"corona\" + 0.007*\"covid\" + 0.006*\"people\" + 0.006*\"covid-19\" + 0.006*\"government\"')\n"
    }
   ],
   "source": [
    "get_topics('data/qcri/narendramodi_geo.json', 5)"
   ]
  },
  {
   "cell_type": "code",
   "execution_count": null,
   "metadata": {},
   "outputs": [],
   "source": []
  }
 ]
}