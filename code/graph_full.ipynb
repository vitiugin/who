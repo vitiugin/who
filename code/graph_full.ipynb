{
 "metadata": {
  "language_info": {
   "codemirror_mode": {
    "name": "ipython",
    "version": 3
   },
   "file_extension": ".py",
   "mimetype": "text/x-python",
   "name": "python",
   "nbconvert_exporter": "python",
   "pygments_lexer": "ipython3",
   "version": "3.7.2-final"
  },
  "orig_nbformat": 2,
  "kernelspec": {
   "name": "python3",
   "display_name": "Python 3",
   "language": "python"
  }
 },
 "nbformat": 4,
 "nbformat_minor": 2,
 "cells": [
  {
   "cell_type": "code",
   "execution_count": 4,
   "metadata": {},
   "outputs": [],
   "source": [
    "import re\n",
    "import operator\n",
    "\n",
    "import pandas as pd\n",
    "import numpy as np\n",
    "import matplotlib.pyplot as plt\n",
    "\n",
    "from glob import glob\n",
    "from datetime import datetime"
   ]
  },
  {
   "cell_type": "code",
   "execution_count": 92,
   "metadata": {},
   "outputs": [],
   "source": [
    "def save_plot(who, qcri, full, g_step, name, filename):\n",
    "    full_graph = {}\n",
    "    for t in full:\n",
    "        if t not in full_graph:\n",
    "            full_graph[t] = 1\n",
    "        else:\n",
    "            full_graph[t] += 1\n",
    "    full_graph = pd.DataFrame(full_graph.items(), columns=['date', 'mentions'])\n",
    "    full_graph = full_graph.sort_values(by=['date'])\n",
    "\n",
    "    who_graph = {}\n",
    "    for t in who:\n",
    "        if t not in who_graph:\n",
    "            who_graph[t] = 1\n",
    "        else:\n",
    "            who_graph[t] += 1\n",
    "    who_graph = pd.DataFrame(who_graph.items(), columns=['date', 'mentions'])\n",
    "    who_graph = who_graph.sort_values(by=['date'])\n",
    "\n",
    "    qcri_graph = {}\n",
    "    for t in qcri:\n",
    "        if t not in qcri_graph:\n",
    "            qcri_graph[t] = 1\n",
    "        else:\n",
    "            qcri_graph[t] += 1\n",
    "    qcri_graph = pd.DataFrame(qcri_graph.items(), columns=['date', 'mentions'])\n",
    "    qcri_graph = qcri_graph.sort_values(by=['date'])\n",
    "\n",
    "    fig = plt.figure(figsize=(20,10))\n",
    "    plt.plot(full_graph['date'], full_graph['mentions'], '-', color='green', label=\"both sources\")\n",
    "    plt.plot(qcri_graph['date'], qcri_graph['mentions'], '-', color='red', label=\"QCRI data\")\n",
    "    plt.plot(who_graph['date'], who_graph['mentions'], '-', color='blue', label=\"WHO data\")\n",
    "    \n",
    "\n",
    "    plt.xlabel('Dates')\n",
    "    plt.ylabel('Number of mentions / tweets from organisation')\n",
    "    \n",
    "    plt.xticks(rotation=90)\n",
    "    plt.tick_params(axis='x', which='major', labelsize=7.5)\n",
    "    plt.tick_params(axis='y', which='major', labelsize=7.5)\n",
    "    plt.yticks(np.arange(0, max(full_graph['mentions']), g_step))\n",
    "    plt.title(name, bbox={'facecolor': '0.8', 'pad': 5})\n",
    "    plt.legend(bbox_to_anchor=(1.05, 1), loc='upper center', borderaxespad=0.)\n",
    "    fig.savefig(filename + '_timeseries.png')\n",
    "    plt.close()\n",
    "    plt.show()\n",
    "\n",
    "def read_files(name):\n",
    "    who = []\n",
    "    qcri = []\n",
    "    full = []\n",
    "    f = pd.read_json('data/qcri/' + name +'_geo.json', lines=True)\n",
    "    for line in f['created_at']:\n",
    "        dtime = datetime.strftime(datetime.strptime(str(line),'%Y-%m-%d %H:%M:%S'), '%Y %m %d')\n",
    "        qcri.append(dtime)\n",
    "        full.append(dtime)\n",
    "    \n",
    "    try:\n",
    "        f = pd.read_csv('data/out/' + name + '.csv', 'rb', delimiter = '\\t')\n",
    "        for line in f['created_at']:\n",
    "            dtime = datetime.strftime(datetime.strptime(line,'%a %b %d %H:%M:%S +0000 %Y'), '%Y %m %d')\n",
    "            who.append(dtime)\n",
    "            full.append(dtime)\n",
    "    except:\n",
    "        who = []\n",
    "\n",
    "    if len(full) >= 100 and len(full) < 200 :\n",
    "        save_plot(who, qcri, full, 5, name, name)\n",
    "    elif len(full) >= 200 and len(full) < 500 :\n",
    "        save_plot(who, qcri, full, 10, name, name)\n",
    "    elif len(full) >= 500 and len(full) < 1000 :\n",
    "        save_plot(who, qcri, full, 30, name, name)\n",
    "    elif len(full) >= 1000 and len(full) < 10000 :\n",
    "        save_plot(who, qcri, full, 50, name, name)\n",
    "    elif len(full) > 10000 :\n",
    "        save_plot(who, qcri, full, 100, name, name)"
   ]
  },
  {
   "cell_type": "code",
   "execution_count": 93,
   "metadata": {
    "tags": []
   },
   "outputs": [],
   "source": [
    "read_files('brazil_gov')"
   ]
  }
 ]
}