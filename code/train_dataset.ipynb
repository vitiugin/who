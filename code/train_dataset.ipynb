{
 "cells": [
  {
   "cell_type": "code",
   "execution_count": 1,
   "metadata": {},
   "outputs": [],
   "source": [
    "import pandas as pd\n",
    "from glob import glob"
   ]
  },
  {
   "cell_type": "code",
   "execution_count": 2,
   "metadata": {},
   "outputs": [],
   "source": [
    "filenames = glob('data/train/*tweets_labeled.csv')\n",
    "dataframes = [pd.read_csv(open(f, 'rb')) for f in filenames]\n",
    "data = pd.concat(dataframes)\n",
    "data.columns = ['tweet_id','tweet_text','information_source', 'information_type','informativeness']"
   ]
  },
  {
   "cell_type": "markdown",
   "metadata": {},
   "source": [
    "# Axis A. Information source"
   ]
  },
  {
   "cell_type": "code",
   "execution_count": 3,
   "metadata": {},
   "outputs": [
    {
     "name": "stdout",
     "output_type": "stream",
     "text": [
      "27933 2193\n"
     ]
    }
   ],
   "source": [
    "# Eyewitness dataset creation\n",
    "\n",
    "eyewitness = []\n",
    "count = 0\n",
    "\n",
    "for row in data.information_source:\n",
    "    if row == 'Eyewitness':\n",
    "        count += 1\n",
    "        eyewitness.append('1')\n",
    "    else:\n",
    "        eyewitness.append('0')\n",
    "\n",
    "print(len(eyewitness), count)"
   ]
  },
  {
   "cell_type": "code",
   "execution_count": 4,
   "metadata": {},
   "outputs": [
    {
     "name": "stdout",
     "output_type": "stream",
     "text": [
      "27933 2156\n"
     ]
    }
   ],
   "source": [
    "# government and NGO's dataset creation\n",
    "\n",
    "gov = []\n",
    "count = 0\n",
    "\n",
    "for row in data.information_source:\n",
    "    if row == 'Government':\n",
    "        count += 1\n",
    "        gov.append('1')\n",
    "    elif row == 'NGOs':\n",
    "        count += 1\n",
    "        gov.append('1')\n",
    "    else:\n",
    "        gov.append('0')\n",
    "\n",
    "print(len(gov), count)"
   ]
  },
  {
   "cell_type": "code",
   "execution_count": 5,
   "metadata": {},
   "outputs": [
    {
     "name": "stdout",
     "output_type": "stream",
     "text": [
      "27933 10157\n"
     ]
    }
   ],
   "source": [
    "# media dataset creation\n",
    "\n",
    "media = []\n",
    "count = 0\n",
    "\n",
    "for row in data.information_source:\n",
    "    if row == 'Media':\n",
    "        count += 1\n",
    "        media.append('1')\n",
    "    else:\n",
    "        media.append('0')\n",
    "\n",
    "print(len(media), count)"
   ]
  },
  {
   "cell_type": "markdown",
   "metadata": {},
   "source": [
    "# Axis B (simple version)"
   ]
  },
  {
   "cell_type": "code",
   "execution_count": 6,
   "metadata": {},
   "outputs": [
    {
     "name": "stdout",
     "output_type": "stream",
     "text": [
      "27933 16849\n"
     ]
    }
   ],
   "source": [
    "# informativeness dataset creation\n",
    "\n",
    "info = []\n",
    "count = 0\n",
    "\n",
    "for row in data.informativeness:\n",
    "    if row == 'Related and informative':\n",
    "        count += 1\n",
    "        info.append('1')\n",
    "    else:\n",
    "        info.append('0')\n",
    "\n",
    "print(len(info), count)"
   ]
  },
  {
   "cell_type": "markdown",
   "metadata": {},
   "source": [
    "# Final dataset saving"
   ]
  },
  {
   "cell_type": "code",
   "execution_count": 7,
   "metadata": {},
   "outputs": [],
   "source": [
    "ds = {'eyewitness': eyewitness, 'gov': gov, 'media': media, 'info': info}\n",
    "new_frame = pd.DataFrame(ds)\n",
    "final_data = pd.concat([data, new_frame], axis=1, join='inner')"
   ]
  },
  {
   "cell_type": "code",
   "execution_count": 8,
   "metadata": {},
   "outputs": [],
   "source": [
    "final_data.reset_index(inplace=True)\n",
    "final_data.to_json('data/train/train_dataset.json')"
   ]
  }
 ],
 "metadata": {
  "kernelspec": {
   "display_name": "who",
   "language": "python",
   "name": "who"
  },
  "language_info": {
   "codemirror_mode": {
    "name": "ipython",
    "version": 3
   },
   "file_extension": ".py",
   "mimetype": "text/x-python",
   "name": "python",
   "nbconvert_exporter": "python",
   "pygments_lexer": "ipython3",
   "version": "3.7.2"
  }
 },
 "nbformat": 4,
 "nbformat_minor": 2
}
