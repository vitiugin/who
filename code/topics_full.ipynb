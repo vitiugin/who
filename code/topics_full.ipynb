{
 "metadata": {
  "language_info": {
   "codemirror_mode": {
    "name": "ipython",
    "version": 3
   },
   "file_extension": ".py",
   "mimetype": "text/x-python",
   "name": "python",
   "nbconvert_exporter": "python",
   "pygments_lexer": "ipython3",
   "version": "3.7.2-final"
  },
  "orig_nbformat": 2,
  "kernelspec": {
   "name": "who",
   "display_name": "who"
  }
 },
 "nbformat": 4,
 "nbformat_minor": 2,
 "cells": [
  {
   "cell_type": "code",
   "execution_count": 1,
   "metadata": {
    "tags": []
   },
   "outputs": [
    {
     "output_type": "stream",
     "name": "stderr",
     "text": "[nltk_data] Downloading package wordnet to /Users/fv/nltk_data...\n[nltk_data]   Package wordnet is already up-to-date!\n[nltk_data] Downloading package stopwords to /Users/fv/nltk_data...\n[nltk_data]   Package stopwords is already up-to-date!\n"
    }
   ],
   "source": [
    "# Based on code from https://towardsdatascience.com/topic-modelling-in-python-with-nltk-and-gensim-4ef03213cd21\n",
    "\n",
    "import nltk\n",
    "import spacy\n",
    "import gensim\n",
    "import random\n",
    "import pickle\n",
    "import pandas as pd\n",
    "from gensim import corpora\n",
    "from spacy.lang.en import English\n",
    "from nltk.corpus import wordnet as wn\n",
    "from nltk.stem.wordnet import WordNetLemmatizer\n",
    "\n",
    "#spacy.load('en_core_web_sm')\n",
    "spacy.load('es_core_news_sm')\n",
    "#spacy.load(\"fr_core_news_sm\")\n",
    "#spacy.load(\"pt_core_news_sm\")\n",
    "nltk.download('wordnet')\n",
    "nltk.download('stopwords')\n",
    "#stop_list = set(nltk.corpus.stopwords.words('english'))\n",
    "stop_list = set(nltk.corpus.stopwords.words('spanish'))\n",
    "#stop_list = set(nltk.corpus.stopwords.words('french'))\n",
    "#stop_list = set(nltk.corpus.stopwords.words('portuguese'))\n",
    "stop_list.add('coronavirus')\n",
    "stop_list.add('covid19')\n",
    "stop_list.add('corona')\n",
    "stop_list.add('covid-19')\n",
    "\n",
    "parser = English()\n",
    "def tokenize(text):\n",
    "    lda_tokens = []\n",
    "    tokens = parser(text)\n",
    "    for token in tokens:\n",
    "        if token.orth_.isspace():\n",
    "            continue\n",
    "        elif token.like_url:\n",
    "            lda_tokens.append('URL')\n",
    "        elif token.orth_.startswith('@'):\n",
    "            lda_tokens.append('')\n",
    "        else:\n",
    "            lda_tokens.append(token.lower_)\n",
    "    return lda_tokens\n",
    "\n",
    "def get_lemma(word):\n",
    "    lemma = wn.morphy(word)\n",
    "    if lemma is None:\n",
    "        return word\n",
    "    else:\n",
    "        return lemma\n",
    "    \n",
    "def get_lemma2(word):\n",
    "    return WordNetLemmatizer().lemmatize(word)\n",
    "\n",
    "def prepare_text_for_lda(text):\n",
    "    tokens = tokenize(text)\n",
    "    tokens = [token for token in tokens if len(token) > 4]\n",
    "    tokens = [token for token in tokens if token not in stop_list]\n",
    "    tokens = [get_lemma(token) for token in tokens]\n",
    "    return tokens"
   ]
  },
  {
   "cell_type": "code",
   "execution_count": 2,
   "metadata": {},
   "outputs": [],
   "source": [
    "def get_topics(name, num_topics):\n",
    "    text_data = []\n",
    "    count = 0\n",
    "    \n",
    "    f = pd.read_json('data/qcri/' + name +'_geo.json', lines=True)\n",
    "    for line in f['text']:\n",
    "        count+= 1\n",
    "        tokens = prepare_text_for_lda(line)\n",
    "        if random.random() > .99:\n",
    "            #print('List of tokens:', tokens)\n",
    "            text_data.append(tokens)\n",
    "    \n",
    "    f = pd.read_csv('data/out/' + name + '.csv', 'rb', delimiter = '\\t')\n",
    "    for line in f['text']:\n",
    "        count+= 1\n",
    "        tokens = prepare_text_for_lda(line)\n",
    "        if random.random() > .99:\n",
    "            #print('List of tokens:', tokens)\n",
    "            text_data.append(tokens)\n",
    "    \n",
    "    print(count)\n",
    "    dictionary = corpora.Dictionary(text_data)\n",
    "    corpus = [dictionary.doc2bow(text) for text in text_data]\n",
    "\n",
    "    pickle.dump(corpus, open('models/corpus.pkl', 'wb'))\n",
    "    dictionary.save('models/dictionary.gensim')\n",
    "\n",
    "    NUM_TOPICS = num_topics\n",
    "    ldamodel = gensim.models.ldamodel.LdaModel(corpus, num_topics = NUM_TOPICS, id2word=dictionary, passes=15)\n",
    "    ldamodel.save('models/model' + str(NUM_TOPICS) + '.gensim')\n",
    "    topics = ldamodel.print_topics(num_words=15)\n",
    "    for topic in topics:\n",
    "        print(topic)"
   ]
  },
  {
   "cell_type": "code",
   "execution_count": 3,
   "metadata": {
    "tags": []
   },
   "outputs": [
    {
     "output_type": "stream",
     "name": "stdout",
     "text": "63765\n(0, '0.007*\"aclara\" + 0.007*\"covidー19\" + 0.006*\"recomendaciones\" + 0.006*\"ministerio\" + 0.005*\"sanidad\" + 0.005*\"medidas\" + 0.005*\"contacto\" + 0.005*\"frente\" + 0.005*\"capacidad\" + 0.005*\"respecto\" + 0.005*\"madrid\" + 0.004*\"siempre\" + 0.004*\"casos\" + 0.004*\"menos\" + 0.004*\"mascarillas\"')\n(1, '0.009*\"estevirusloparamosunidos\" + 0.007*\"españa\" + 0.007*\"riesgo\" + 0.006*\"recomendaciones\" + 0.006*\"información\" + 0.005*\"salud\" + 0.005*\"covidー19\" + 0.005*\"persona\" + 0.004*\"yomequedoencasa\" + 0.004*\"personal\" + 0.004*\"sanitarios\" + 0.004*\"población\" + 0.004*\"covid_19\" + 0.003*\"casos\" + 0.003*\"pacientes\"')\n(2, '0.007*\"sanidad\" + 0.007*\"ministro\" + 0.007*\"estevirusloparamosunidos\" + 0.006*\"medidas\" + 0.006*\"enfermos\" + 0.006*\"fernando\" + 0.006*\"síntomas\" + 0.006*\"simón\" + 0.005*\"hospital\" + 0.005*\"epidemia\" + 0.005*\"pandemia\" + 0.004*\"deben\" + 0.004*\"muerto\" + 0.004*\"realidad\" + 0.004*\"alguien\"')\n(3, '0.030*\"fallecidos\" + 0.030*\"datos\" + 0.027*\"curados\" + 0.025*\"estevirusloparamosunidos\" + 0.024*\"españa\" + 0.022*\"confirmados\" + 0.021*\"actualizados\" + 0.020*\"primer\" + 0.020*\"información\" + 0.019*\"inicial\" + 0.017*\"abril\" + 0.013*\"situación\" + 0.010*\"️total\" + 0.006*\"comunidad\" + 0.006*\"medidas\"')\n(4, '0.013*\"comunidades\" + 0.013*\"madrid\" + 0.013*\"casos\" + 0.013*\"menos\" + 0.013*\"políticos\" + 0.012*\"nuevos\" + 0.012*\"falso\" + 0.012*\"primera\" + 0.012*\"inform\" + 0.012*\"diciendo\" + 0.012*\"viendo\" + 0.012*\"comunidad\" + 0.012*\"parecería\" + 0.012*\"periodistas\" + 0.012*\"vista\"')\n"
    }
   ],
   "source": [
    "get_topics('Sanidadgob', 5)"
   ]
  },
  {
   "cell_type": "code",
   "execution_count": null,
   "metadata": {},
   "outputs": [],
   "source": []
  }
 ]
}