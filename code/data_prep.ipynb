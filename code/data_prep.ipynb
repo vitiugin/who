{
 "cells": [
  {
   "cell_type": "code",
   "execution_count": null,
   "metadata": {},
   "outputs": [],
   "source": [
    "import operator\n",
    "\n",
    "import pandas as pd\n",
    "\n",
    "from langdetect import detect\n",
    "from glob import glob"
   ]
  },
  {
   "cell_type": "markdown",
   "metadata": {},
   "source": [
    "Data stores in compressed .xlsx files.\n",
    "After downloading files an unzipping they need to replace in data folder in project directory."
   ]
  },
  {
   "cell_type": "code",
   "execution_count": null,
   "metadata": {},
   "outputs": [],
   "source": [
    "filenames = glob('data/raw_data_2/*Tweets (Users with _ 1,000 followers).xlsx')\n",
    "dataframes = [pd.read_excel(open(f, 'rb'), sheet_name='Archive') for f in filenames]\n",
    "data = pd.concat(dataframes)"
   ]
  },
  {
   "cell_type": "markdown",
   "metadata": {},
   "source": [
    "Detect languages of tweets in dataset."
   ]
  },
  {
   "cell_type": "code",
   "execution_count": null,
   "metadata": {},
   "outputs": [],
   "source": [
    "language_distribution = {}\n",
    "errors = 0\n",
    "langs = []\n",
    "\n",
    "for text in data.text:\n",
    "    try:\n",
    "        langs.append(detect(text))\n",
    "        lang = detect(text)\n",
    "        if lang not in language_distribution:\n",
    "            language_distribution[lang] = 1\n",
    "        else:\n",
    "            language_distribution[lang] += 1\n",
    "    except:\n",
    "        langs.append('error')\n",
    "        errors += 1\n",
    "        continue\n",
    "        \n",
    "language_freq = sorted(language_distribution.items(), key=operator.itemgetter(1))"
   ]
  },
  {
   "cell_type": "markdown",
   "metadata": {},
   "source": [
    "Look at language distribution in datarame and number of undefined languages."
   ]
  },
  {
   "cell_type": "code",
   "execution_count": null,
   "metadata": {},
   "outputs": [],
   "source": [
    "print('Number of tweets with undefined language:', errors)\n",
    "print('Distribution of different languages in dataframe:', language_freq)"
   ]
  },
  {
   "cell_type": "markdown",
   "metadata": {},
   "source": [
    "Save data with information about language in file."
   ]
  },
  {
   "cell_type": "code",
   "execution_count": null,
   "metadata": {},
   "outputs": [],
   "source": [
    "data['tweet_lang'] = langs\n",
    "data.reset_index(inplace=True)\n",
    "data.to_csv('data/full_who_dataset2.csv')"
   ]
  }
 ],
 "metadata": {
  "kernelspec": {
   "display_name": "who",
   "language": "python",
   "name": "who"
  },
  "language_info": {
   "codemirror_mode": {
    "name": "ipython",
    "version": 3
   },
   "file_extension": ".py",
   "mimetype": "text/x-python",
   "name": "python",
   "nbconvert_exporter": "python",
   "pygments_lexer": "ipython3",
   "version": "3.7.2"
  }
 },
 "nbformat": 4,
 "nbformat_minor": 2
}
